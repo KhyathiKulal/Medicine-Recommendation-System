{
 "cells": [
  {
   "cell_type": "markdown",
   "id": "e369660e",
   "metadata": {},
   "source": [
    "# Medicine Recommendation System\n"
   ]
  },
  {
   "cell_type": "markdown",
   "id": "49fd5888",
   "metadata": {},
   "source": [
    "# load dataset and tools"
   ]
  },
  {
   "cell_type": "code",
   "execution_count": 1,
   "id": "a20810c1",
   "metadata": {},
   "outputs": [],
   "source": [
    "import pandas as pd"
   ]
  },
  {
   "cell_type": "code",
   "execution_count": null,
   "id": "03c7017b",
   "metadata": {},
   "outputs": [],
   "source": [
    "\n"
   ]
  },
  {
   "cell_type": "code",
   "execution_count": 5,
   "id": "99c96d97",
   "metadata": {},
   "outputs": [],
   "source": [
    "df = pd.read_csv(\"Training.csv\")"
   ]
  },
  {
   "cell_type": "code",
   "execution_count": 6,
   "id": "011f3d84",
   "metadata": {},
   "outputs": [
    {
     "data": {
      "text/plain": [
       "(4920, 133)"
      ]
     },
     "execution_count": 6,
     "metadata": {},
     "output_type": "execute_result"
    }
   ],
   "source": [
    "df.shape"
   ]
  },
  {
   "cell_type": "code",
   "execution_count": 7,
   "id": "d80556aa",
   "metadata": {},
   "outputs": [
    {
     "data": {
      "text/plain": [
       "41"
      ]
     },
     "execution_count": 7,
     "metadata": {},
     "output_type": "execute_result"
    }
   ],
   "source": [
    "len(df['prognosis'].unique())"
   ]
  },
  {
   "cell_type": "code",
   "execution_count": 8,
   "id": "14f54e22",
   "metadata": {},
   "outputs": [
    {
     "data": {
      "text/plain": [
       "array(['Fungal infection', 'Allergy', 'GERD', 'Chronic cholestasis',\n",
       "       'Drug Reaction', 'Peptic ulcer diseae', 'AIDS', 'Diabetes ',\n",
       "       'Gastroenteritis', 'Bronchial Asthma', 'Hypertension ', 'Migraine',\n",
       "       'Cervical spondylosis', 'Paralysis (brain hemorrhage)', 'Jaundice',\n",
       "       'Malaria', 'Chicken pox', 'Dengue', 'Typhoid', 'hepatitis A',\n",
       "       'Hepatitis B', 'Hepatitis C', 'Hepatitis D', 'Hepatitis E',\n",
       "       'Alcoholic hepatitis', 'Tuberculosis', 'Common Cold', 'Pneumonia',\n",
       "       'Dimorphic hemmorhoids(piles)', 'Heart attack', 'Varicose veins',\n",
       "       'Hypothyroidism', 'Hyperthyroidism', 'Hypoglycemia',\n",
       "       'Osteoarthristis', 'Arthritis',\n",
       "       '(vertigo) Paroymsal  Positional Vertigo', 'Acne',\n",
       "       'Urinary tract infection', 'Psoriasis', 'Impetigo'], dtype=object)"
      ]
     },
     "execution_count": 8,
     "metadata": {},
     "output_type": "execute_result"
    }
   ],
   "source": [
    "df['prognosis'].unique()"
   ]
  },
  {
   "cell_type": "markdown",
   "id": "6bfa9e06",
   "metadata": {},
   "source": [
    "# train test split"
   ]
  },
  {
   "cell_type": "code",
   "execution_count": 9,
   "id": "01c335d7",
   "metadata": {},
   "outputs": [],
   "source": [
    "from sklearn.model_selection import train_test_split\n",
    "from sklearn.preprocessing import LabelEncoder"
   ]
  },
  {
   "cell_type": "code",
   "execution_count": 10,
   "id": "d265df2a",
   "metadata": {},
   "outputs": [],
   "source": [
    "X = df.drop(\"prognosis\", axis=1)\n",
    "y = df['prognosis']"
   ]
  },
  {
   "cell_type": "code",
   "execution_count": 11,
   "id": "a7ed90f8",
   "metadata": {},
   "outputs": [
    {
     "data": {
      "text/plain": [
       "0                              Fungal infection\n",
       "1                              Fungal infection\n",
       "2                              Fungal infection\n",
       "3                              Fungal infection\n",
       "4                              Fungal infection\n",
       "                         ...                   \n",
       "4915    (vertigo) Paroymsal  Positional Vertigo\n",
       "4916                                       Acne\n",
       "4917                    Urinary tract infection\n",
       "4918                                  Psoriasis\n",
       "4919                                   Impetigo\n",
       "Name: prognosis, Length: 4920, dtype: object"
      ]
     },
     "execution_count": 11,
     "metadata": {},
     "output_type": "execute_result"
    }
   ],
   "source": [
    "y"
   ]
  },
  {
   "cell_type": "code",
   "execution_count": 12,
   "id": "f2102aa0",
   "metadata": {},
   "outputs": [],
   "source": [
    "le = LabelEncoder()\n",
    "le.fit(y)\n",
    "Y = le.transform(y)"
   ]
  },
  {
   "cell_type": "code",
   "execution_count": 13,
   "id": "f64f6fdc",
   "metadata": {},
   "outputs": [
    {
     "data": {
      "text/plain": [
       "array([15, 15, 15, ..., 38, 35, 27])"
      ]
     },
     "execution_count": 13,
     "metadata": {},
     "output_type": "execute_result"
    }
   ],
   "source": [
    "Y"
   ]
  },
  {
   "cell_type": "code",
   "execution_count": 14,
   "id": "9764ef92",
   "metadata": {},
   "outputs": [],
   "source": [
    "X_train, X_test, y_train, y_test = train_test_split(X,Y,test_size=0.3, random_state=20)"
   ]
  },
  {
   "cell_type": "code",
   "execution_count": 15,
   "id": "4463b658",
   "metadata": {},
   "outputs": [
    {
     "data": {
      "text/plain": [
       "((3444, 132), (1476, 132), (3444,), (1476,))"
      ]
     },
     "execution_count": 15,
     "metadata": {},
     "output_type": "execute_result"
    }
   ],
   "source": [
    "X_train.shape, X_test.shape, y_train.shape, y_test.shape"
   ]
  },
  {
   "cell_type": "markdown",
   "id": "b879f62a",
   "metadata": {},
   "source": [
    "# Training top models"
   ]
  },
  {
   "cell_type": "code",
   "execution_count": 16,
   "id": "a1bda6ed",
   "metadata": {},
   "outputs": [
    {
     "name": "stdout",
     "output_type": "stream",
     "text": [
      "SVC  accuracy : 1.0\n",
      "SVC Consusion matrix :\n",
      "[[40, 0, 0,..., 0, 0, 0],\n",
      " [ 0,43, 0,..., 0, 0, 0],\n",
      " [ 0, 0,28,..., 0, 0, 0],\n",
      " ...,\n",
      " [ 0, 0, 0,...,34, 0, 0],\n",
      " [ 0, 0, 0,..., 0,41, 0],\n",
      " [ 0, 0, 0,..., 0, 0,31]]\n",
      "RandomForest  accuracy : 1.0\n",
      "RandomForest Consusion matrix :\n",
      "[[40, 0, 0,..., 0, 0, 0],\n",
      " [ 0,43, 0,..., 0, 0, 0],\n",
      " [ 0, 0,28,..., 0, 0, 0],\n",
      " ...,\n",
      " [ 0, 0, 0,...,34, 0, 0],\n",
      " [ 0, 0, 0,..., 0,41, 0],\n",
      " [ 0, 0, 0,..., 0, 0,31]]\n",
      "GradientBoosting  accuracy : 1.0\n",
      "GradientBoosting Consusion matrix :\n",
      "[[40, 0, 0,..., 0, 0, 0],\n",
      " [ 0,43, 0,..., 0, 0, 0],\n",
      " [ 0, 0,28,..., 0, 0, 0],\n",
      " ...,\n",
      " [ 0, 0, 0,...,34, 0, 0],\n",
      " [ 0, 0, 0,..., 0,41, 0],\n",
      " [ 0, 0, 0,..., 0, 0,31]]\n",
      "KNN  accuracy : 1.0\n",
      "KNN Consusion matrix :\n",
      "[[40, 0, 0,..., 0, 0, 0],\n",
      " [ 0,43, 0,..., 0, 0, 0],\n",
      " [ 0, 0,28,..., 0, 0, 0],\n",
      " ...,\n",
      " [ 0, 0, 0,...,34, 0, 0],\n",
      " [ 0, 0, 0,..., 0,41, 0],\n",
      " [ 0, 0, 0,..., 0, 0,31]]\n",
      "MultinomialNB  accuracy : 1.0\n",
      "MultinomialNB Consusion matrix :\n",
      "[[40, 0, 0,..., 0, 0, 0],\n",
      " [ 0,43, 0,..., 0, 0, 0],\n",
      " [ 0, 0,28,..., 0, 0, 0],\n",
      " ...,\n",
      " [ 0, 0, 0,...,34, 0, 0],\n",
      " [ 0, 0, 0,..., 0,41, 0],\n",
      " [ 0, 0, 0,..., 0, 0,31]]\n"
     ]
    }
   ],
   "source": [
    "from sklearn.datasets import make_classification\n",
    "from sklearn.svm import SVC\n",
    "from sklearn.ensemble import RandomForestClassifier,GradientBoostingClassifier\n",
    "from sklearn.neighbors import KNeighborsClassifier\n",
    "from sklearn.naive_bayes import MultinomialNB\n",
    "\n",
    "from sklearn.metrics import accuracy_score, confusion_matrix\n",
    "import numpy as np\n",
    "\n",
    "#create a dictionary to store the models\n",
    "models = {\n",
    "    \"SVC\" : SVC(kernel='linear'),\n",
    "    \"RandomForest\" : RandomForestClassifier(n_estimators=100, random_state=42),\n",
    "    \"GradientBoosting\" : GradientBoostingClassifier(n_estimators=100, random_state=42),\n",
    "    \"KNN\" : KNeighborsClassifier(n_neighbors=5),\n",
    "    \"MultinomialNB\" : MultinomialNB()\n",
    "}\n",
    "\n",
    "for model_name ,model in models.items():\n",
    "    #train model\n",
    "    model.fit(X_train, y_train)\n",
    "    \n",
    "    #test model\n",
    "    predictions = model.predict(X_test)\n",
    "    \n",
    "    #Calculate Accuracy\n",
    "    accuracy = accuracy_score(y_test, predictions)\n",
    "    \n",
    "    #calculate confusion matrix\n",
    "    cm = confusion_matrix(y_test, predictions)\n",
    "    \n",
    "    print(model_name,\" accuracy :\" ,accuracy)\n",
    "    print(model_name ,\"Consusion matrix :\")\n",
    "    print(np.array2string(cm, separator=','))"
   ]
  },
  {
   "cell_type": "markdown",
   "id": "3a81fb43",
   "metadata": {},
   "source": [
    "# single prediction"
   ]
  },
  {
   "cell_type": "code",
   "execution_count": 17,
   "id": "3200f7fd",
   "metadata": {},
   "outputs": [
    {
     "data": {
      "text/plain": [
       "1.0"
      ]
     },
     "execution_count": 17,
     "metadata": {},
     "output_type": "execute_result"
    }
   ],
   "source": [
    "svc = SVC(kernel = 'linear')\n",
    "svc.fit(X_train, y_train)\n",
    "ypred = svc.predict(X_test)\n",
    "accuracy_score(y_test, ypred)"
   ]
  },
  {
   "cell_type": "code",
   "execution_count": 18,
   "id": "202e9056",
   "metadata": {},
   "outputs": [],
   "source": [
    "#saving model\n",
    "import pickle\n",
    "pickle.dump(svc,open(\"svc.pkl\",'wb'))"
   ]
  },
  {
   "cell_type": "code",
   "execution_count": 19,
   "id": "149bd0ec",
   "metadata": {},
   "outputs": [],
   "source": [
    "#load model\n",
    "svc = pickle.load(open(\"svc.pkl\", 'rb'))"
   ]
  },
  {
   "cell_type": "code",
   "execution_count": 20,
   "id": "152d966f",
   "metadata": {},
   "outputs": [
    {
     "name": "stdout",
     "output_type": "stream",
     "text": [
      "Predicted label :  [40]\n",
      "Actual label :  40\n"
     ]
    },
    {
     "name": "stderr",
     "output_type": "stream",
     "text": [
      "C:\\Users\\Khyathi\\anaconda3\\Lib\\site-packages\\sklearn\\base.py:493: UserWarning: X does not have valid feature names, but SVC was fitted with feature names\n",
      "  warnings.warn(\n"
     ]
    }
   ],
   "source": [
    "#test 1\n",
    "print(\"Predicted label : \",svc.predict(X_test.iloc[0].values.reshape(1,-1)))\n",
    "print(\"Actual label : \",y_test[0])"
   ]
  },
  {
   "cell_type": "code",
   "execution_count": 21,
   "id": "ccc4a84d",
   "metadata": {},
   "outputs": [
    {
     "name": "stdout",
     "output_type": "stream",
     "text": [
      "Predicted label :  [20]\n",
      "Actual label :  20\n"
     ]
    },
    {
     "name": "stderr",
     "output_type": "stream",
     "text": [
      "C:\\Users\\Khyathi\\anaconda3\\Lib\\site-packages\\sklearn\\base.py:493: UserWarning: X does not have valid feature names, but SVC was fitted with feature names\n",
      "  warnings.warn(\n"
     ]
    }
   ],
   "source": [
    "#test 2\n",
    "print(\"Predicted label : \",svc.predict(X_test.iloc[10].values.reshape(1,-1)))\n",
    "print(\"Actual label : \",y_test[10])"
   ]
  },
  {
   "cell_type": "markdown",
   "id": "bfcfbf0b",
   "metadata": {},
   "source": [
    "# Recommendation system  and Prediction"
   ]
  },
  {
   "cell_type": "markdown",
   "id": "07bb747e",
   "metadata": {},
   "source": [
    "# load dataset and use logic for recommendations"
   ]
  },
  {
   "cell_type": "code",
   "execution_count": 22,
   "id": "eab99854",
   "metadata": {},
   "outputs": [],
   "source": [
    "symptom = pd.read_csv('symtoms_df.csv')\n",
    "precaution = pd.read_csv('precautions_df.csv')\n",
    "workout = pd.read_csv('workout_df.csv')\n",
    "description = pd.read_csv('description.csv.')\n",
    "medication = pd.read_csv('medications.csv.')\n",
    "diet = pd.read_csv('diets.csv.')"
   ]
  },
  {
   "cell_type": "code",
   "execution_count": 23,
   "id": "b9d0c8f5",
   "metadata": {},
   "outputs": [],
   "source": [
    "#helper function\n",
    "\n",
    "def helper(dis):\n",
    "    desc = description[description['Disease']== dis]['Description']\n",
    "    desc = \" \".join([w for w in desc])\n",
    "\n",
    "    prec = precaution[precaution[\"Disease\"]==dis][[\"Precaution_1\",\"Precaution_2\",\"Precaution_3\",\"Precaution_4\"]]\n",
    "    prec = [col for col in prec.values]\n",
    "    \n",
    "    med = medication[medication['Disease']== dis]['Medication']\n",
    "    med = [med for med in med.values]\n",
    "    \n",
    "    die = diet[diet['Disease']== dis]['Diet']\n",
    "#     die =[die for die in die.values]\n",
    "    \n",
    "    wrkout = workout[workout['disease']==dis]['workout']\n",
    "    wrkout =[wo for wo in wrkout.values]\n",
    "    \n",
    "    return desc, prec, med, die, wrkout\n",
    "\n",
    "\n",
    "disease_list = {15 :'Fungal infection', 4 :'Allergy', 16 :'GERD', 9 : 'Chronic cholestasis', 14 :'Drug Reaction', 33 :'Peptic ulcer diseae', 1 :'AIDS', 12 :'Diabetes ',17 :'Gastroenteritis', 6 :'Bronchial Asthma', 23 :'Hypertension ', 30 : 'Migraine', 7 :'Cervical spondylosis', 32 :'Paralysis (brain hemorrhage)', 28 :'Jaundice', 29 :'Malaria', 8 :'Chicken pox', 11 :'Dengue', 37 :'Typhoid', 40 :'hepatitis A',19 :'Hepatitis B', 20 :'Hepatitis C',21 : 'Hepatitis D', 22 :'Hepatitis E',3 :'Alcoholic hepatitis', 36 :'Tuberculosis', 10 : 'Common Cold', 34 :'Pneumonia',13 :'Dimorphic hemmorhoids(piles)', 18 :'Heart attack', 39 :'Varicose veins',26 :'Hypothyroidism', 24 :'Hyperthyroidism', 25 :'Hypoglycemia', 31 :'Osteoarthristis', 5 :'Arthritis', 0 :'(vertigo) Paroymsal  Positional Vertigo', 2 :'Acne', 38 :'Urinary tract infection', 35 :'Psoriasis', 27 :'Impetigo'}\n",
    "symptoms_dict = {'itching': 0 , 'skin_rash': 1, 'nodal_skin_eruptions': 2, 'continuous_sneezing': 3, 'shivering': 4, 'chills': 5, 'joint_pain': 6, 'stomach_pain': 7, 'acidity': 8, 'ulcers_on_tongue': 9, 'muscle_wasting': 10, 'vomiting': 11, 'burning_micturition': 12, 'spotting_ urination': 13, 'fatigue': 14, 'weight_gain': 15, 'anxiety': 16, 'cold_hands_and_feets': 17, 'mood_swings': 18, 'weight_loss': 19, 'restlessness': 20, 'lethargy': 21, 'patches_in_throat': 22, 'irregular_sugar_level': 23, 'cough': 24, 'high_fever': 25, 'sunken_eyes': 26, 'breathlessness': 27, 'sweating': 28, 'dehydration': 29, 'indigestion': 30, 'headache': 31, 'yellowish_skin': 32, 'dark_urine': 33, 'nausea': 34, 'loss_of_appetite': 35, 'pain_behind_the_eyes': 36, 'back_pain': 37, 'constipation': 38, 'abdominal_pain': 39, 'diarrhoea': 40, 'mild_fever': 41, 'yellow_urine': 42, 'yellowing_of_eyes': 43, 'acute_liver_failure': 44, 'fluid_overload': 45, 'swelling_of_stomach': 46, 'swelled_lymph_nodes': 47, 'malaise': 48, 'blurred_and_distorted_vision': 49, 'phlegm': 50, 'throat_irritation': 51, 'redness_of_eyes': 52, 'sinus_pressure': 53, 'runny_nose': 54, 'congestion': 55, 'chest_pain': 56, 'weakness_in_limbs': 57, 'fast_heart_rate': 58, 'pain_during_bowel_movements': 59, 'pain_in_anal_region': 60, 'bloody_stool': 61, 'irritation_in_anus': 62, 'neck_pain': 63, 'dizziness': 64, 'cramps': 65, 'bruising': 66, 'obesity': 67, 'swollen_legs': 68, 'swollen_blood_vessels': 69, 'puffy_face_and_eyes': 70, 'enlarged_thyroid': 71, 'brittle_nails': 72, 'swollen_extremeties': 73, 'excessive_hunger': 74, 'extra_marital_contacts': 75, 'drying_and_tingling_lips': 76, 'slurred_speech': 77, 'knee_pain': 78, 'hip_joint_pain': 79, 'muscle_weakness': 80, 'stiff_neck': 81, 'swelling_joints': 82, 'movement_stiffness': 83, 'spinning_movements': 84, 'loss_of_balance': 85, 'unsteadiness': 86, 'weakness_of_one_body_side': 87, 'loss_of_smell': 88, 'bladder_discomfort': 89, 'foul_smell_of urine': 90, 'continuous_feel_of_urine': 91, 'passage_of_gases': 92, 'internal_itching': 93, 'toxic_look_(typhos)': 94, 'depression': 95, 'irritability': 96, 'muscle_pain': 97, 'altered_sensorium': 98, 'red_spots_over_body': 99, 'belly_pain': 100, 'abnormal_menstruation': 101, 'dischromic _patches': 102, 'watering_from_eyes': 103, 'increased_appetite': 104, 'polyuria': 105, 'family_history': 106, 'mucoid_sputum': 107, 'rusty_sputum': 108, 'lack_of_concentration': 109, 'visual_disturbances': 110, 'receiving_blood_transfusion': 111, 'receiving_unsterile_injections': 112, 'coma': 113, 'stomach_bleeding': 114, 'distention_of_abdomen': 115, 'history_of_alcohol_consumption': 116, 'fluid_overload.1': 117, 'blood_in_sputum': 118, 'prominent_veins_on_calf': 119, 'palpitations': 120, 'painful_walking': 121, 'pus_filled_pimples': 122, 'blackheads': 123, 'scurring': 124, 'skin_peeling': 125, 'silver_like_dusting': 126, 'small_dents_in_nails': 127, 'inflammatory_nails': 128, 'blister': 129, 'red_sore_around_nose': 130, 'yellow_crust_ooze': 131}\n",
    "\n",
    "\n",
    "#model prediction function\n",
    "def get_predicted_value(patient_symptoms):\n",
    "    input_vector = np.zeros(len(symptoms_dict))\n",
    "    \n",
    "    for item in patient_symptoms:\n",
    "        input_vector[symptoms_dict[item]] = 1\n",
    "    return disease_list[svc.predict([input_vector])[0]]\n",
    "        "
   ]
  },
  {
   "cell_type": "code",
   "execution_count": 24,
   "id": "1984f9de",
   "metadata": {},
   "outputs": [
    {
     "name": "stdout",
     "output_type": "stream",
     "text": [
      "enter your symptoms...itching, skin_rash\n"
     ]
    },
    {
     "name": "stderr",
     "output_type": "stream",
     "text": [
      "C:\\Users\\Khyathi\\anaconda3\\Lib\\site-packages\\sklearn\\base.py:493: UserWarning: X does not have valid feature names, but SVC was fitted with feature names\n",
      "  warnings.warn(\n"
     ]
    }
   ],
   "source": [
    "# test 1:\n",
    "symptoms = input(\"enter your symptoms...\")\n",
    "user_symp = [s.strip() for s in symptoms.split(',')]\n",
    "user_symp = [sym.strip(\"[]' \") for sym in user_symp ]\n",
    "predicted_disease = get_predicted_value(user_symp)"
   ]
  },
  {
   "cell_type": "code",
   "execution_count": 25,
   "id": "e4709c69",
   "metadata": {},
   "outputs": [],
   "source": [
    "desc, prec, med, die, wrkout = helper(predicted_disease)\n"
   ]
  },
  {
   "cell_type": "code",
   "execution_count": 26,
   "id": "4b228862",
   "metadata": {},
   "outputs": [
    {
     "name": "stdout",
     "output_type": "stream",
     "text": [
      "Predicted disease :  Fungal infection\n",
      "Description :  Fungal infection is a common skin condition caused by fungi.\n",
      "precausion\n",
      "1  :  bath twice\n",
      "2  :  use detol or neem in bathing water\n",
      "3  :  keep infected area dry\n",
      "4  :  use clean cloths\n",
      "medication\n",
      "1  :  ['Antifungal Cream', 'Fluconazole', 'Terbinafine', 'Clotrimazole', 'Ketoconazole']\n",
      "diets\n",
      "1  :  ['Antifungal Diet', 'Probiotics', 'Garlic', 'Coconut oil', 'Turmeric']\n",
      "workout\n",
      "1  :  Avoid sugary foods\n",
      "2  :  Consume probiotics\n",
      "3  :  Increase intake of garlic\n",
      "4  :  Include yogurt in diet\n",
      "5  :  Limit processed foods\n",
      "6  :  Stay hydrated\n",
      "7  :  Consume green tea\n",
      "8  :  Eat foods rich in zinc\n",
      "9  :  Include turmeric in diet\n",
      "10  :  Eat fruits and vegetables\n"
     ]
    }
   ],
   "source": [
    "print(\"Predicted disease : \",predicted_disease)\n",
    "\n",
    "print(\"Description : \", desc)\n",
    "\n",
    "print(\"precausion\")\n",
    "i=1\n",
    "for p_i in prec[0]:\n",
    "    print(i, \" : \", p_i)\n",
    "    i+=1\n",
    "    \n",
    "print(\"medication\")\n",
    "i=1\n",
    "for m_i in med:\n",
    "     print(i, \" : \", m_i)\n",
    "     i+=1\n",
    "    \n",
    "print(\"diets\")\n",
    "i=1\n",
    "for di_i in die:\n",
    "     print(i, \" : \", di_i)\n",
    "     i+=1\n",
    "    \n",
    "print(\"workout\")\n",
    "i=1\n",
    "for w_i in wrkout:\n",
    "     print(i, \" : \", w_i)\n",
    "     i+=1\n",
    "    "
   ]
  },
  {
   "cell_type": "code",
   "execution_count": null,
   "id": "cd60d2ca",
   "metadata": {},
   "outputs": [],
   "source": []
  },
  {
   "cell_type": "code",
   "execution_count": 27,
   "id": "bc6ff61f",
   "metadata": {},
   "outputs": [
    {
     "name": "stdout",
     "output_type": "stream",
     "text": [
      "1.5.1\n"
     ]
    }
   ],
   "source": [
    "import sklearn\n",
    "print(sklearn.__version__)"
   ]
  },
  {
   "cell_type": "code",
   "execution_count": null,
   "id": "6619ec55",
   "metadata": {},
   "outputs": [],
   "source": []
  }
 ],
 "metadata": {
  "kernelspec": {
   "display_name": "Python 3 (ipykernel)",
   "language": "python",
   "name": "python3"
  },
  "language_info": {
   "codemirror_mode": {
    "name": "ipython",
    "version": 3
   },
   "file_extension": ".py",
   "mimetype": "text/x-python",
   "name": "python",
   "nbconvert_exporter": "python",
   "pygments_lexer": "ipython3",
   "version": "3.11.3"
  }
 },
 "nbformat": 4,
 "nbformat_minor": 5
}
